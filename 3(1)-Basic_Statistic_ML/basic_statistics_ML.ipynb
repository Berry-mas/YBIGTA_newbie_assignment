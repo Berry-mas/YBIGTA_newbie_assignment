{
 "cells": [
  {
   "cell_type": "markdown",
   "id": "34f08e30",
   "metadata": {},
   "source": [
    "## 1. Iris 데이터셋을 활용해 클래스별 변수 평균 차이를 검정"
   ]
  },
  {
   "cell_type": "code",
   "execution_count": 4,
   "id": "edc3026a",
   "metadata": {},
   "outputs": [],
   "source": [
    "# 1\n",
    "import seaborn as sns\n",
    "iris = sns.load_dataset('iris')"
   ]
  },
  {
   "cell_type": "code",
   "execution_count": 7,
   "id": "3efb5caf",
   "metadata": {},
   "outputs": [
    {
     "name": "stdout",
     "output_type": "stream",
     "text": [
      "   sepal_length  sepal_width  petal_length  petal_width species\n",
      "0           5.1          3.5           1.4          0.2  setosa\n",
      "1           4.9          3.0           1.4          0.2  setosa\n",
      "2           4.7          3.2           1.3          0.2  setosa\n",
      "3           4.6          3.1           1.5          0.2  setosa\n",
      "4           5.0          3.6           1.4          0.2  setosa\n",
      "5           5.4          3.9           1.7          0.4  setosa\n",
      "6           4.6          3.4           1.4          0.3  setosa\n",
      "7           5.0          3.4           1.5          0.2  setosa\n",
      "8           4.4          2.9           1.4          0.2  setosa\n",
      "9           4.9          3.1           1.5          0.1  setosa\n",
      "<class 'pandas.core.frame.DataFrame'>\n",
      "RangeIndex: 150 entries, 0 to 149\n",
      "Data columns (total 5 columns):\n",
      " #   Column        Non-Null Count  Dtype  \n",
      "---  ------        --------------  -----  \n",
      " 0   sepal_length  150 non-null    float64\n",
      " 1   sepal_width   150 non-null    float64\n",
      " 2   petal_length  150 non-null    float64\n",
      " 3   petal_width   150 non-null    float64\n",
      " 4   species       150 non-null    object \n",
      "dtypes: float64(4), object(1)\n",
      "memory usage: 6.0+ KB\n",
      "None\n"
     ]
    }
   ],
   "source": [
    "print(iris.head(10))\n",
    "\n",
    "print(iris.info())"
   ]
  },
  {
   "cell_type": "code",
   "execution_count": null,
   "id": "b8db4c66",
   "metadata": {},
   "outputs": [
    {
     "name": "stdout",
     "output_type": "stream",
     "text": [
      "            count   mean       std  min  25%   50%    75%  max\n",
      "species                                                       \n",
      "setosa       50.0  1.462  0.173664  1.0  1.4  1.50  1.575  1.9\n",
      "versicolor   50.0  4.260  0.469911  3.0  4.0  4.35  4.600  5.1\n",
      "virginica    50.0  5.552  0.551895  4.5  5.1  5.55  5.875  6.9\n"
     ]
    }
   ],
   "source": [
    "# 2\n",
    "result = iris.groupby('species')['petal_length'].describe()\n",
    "\n",
    "print(result)\n"
   ]
  },
  {
   "cell_type": "code",
   "execution_count": null,
   "id": "0aac6e18",
   "metadata": {},
   "outputs": [
    {
     "data": {
      "image/png": "[encoded data removed]",
      "text/plain": [
       "<Figure size 640x480 with 1 Axes>"
      ]
     },
     "metadata": {},
     "output_type": "display_data"
    }
   ],
   "source": [
    "# 3\n",
    "import matplotlib.pyplot as plt\n",
    "\n",
    "sns.boxplot(data=iris, x='species', y='petal_length')\n",
    "\n",
    "plt.title('Petal Length by Species')\n",
    "plt.xlabel('Species')\n",
    "plt.ylabel('Petal Length (cm)')\n",
    "plt.grid(True)\n",
    "plt.show()"
   ]
  },
  {
   "cell_type": "markdown",
   "id": "119219a5",
   "metadata": {},
   "source": [
    "- Virginica 그룹의 평균 및 중앙값이 가장 높다.\n",
    "- setosa 그룹의 평균 및 중앙값이 가장 낮다.\n",
    "- versicolor Species의 최댓값이 Virginica의 최솟값보다 크다."
   ]
  },
  {
   "cell_type": "code",
   "execution_count": null,
   "id": "9e097e24",
   "metadata": {},
   "outputs": [
    {
     "name": "stdout",
     "output_type": "stream",
     "text": [
      "setosa: p-value = 0.0548\n",
      "versicolor: p-value = 0.1585\n",
      "virginica: p-value = 0.1098\n"
     ]
    }
   ],
   "source": [
    "# 4\n",
    "from scipy.stats import shapiro\n",
    "\n",
    "# species별로 p-value만 출력\n",
    "species_list = iris['species'].unique()\n",
    "\n",
    "for species in species_list:\n",
    "    data = iris[iris['species'] == species]['petal_length']\n",
    "    _, p = shapiro(data)\n",
    "    print(f\"{species}: p-value = {p:.4f}\")"
   ]
  },
  {
   "cell_type": "markdown",
   "id": "5c2bac08",
   "metadata": {},
   "source": [
    "- setosa의 p-value가 0.05 이상이므로 귀무가설을 기각할 수 없다. 즉 정규성을 만족한다.\n",
    "- versicolor의의 p-value가 0.05 이상이므로 귀무가설을 기각할 수 없다. 즉 정규성을 만족한다.\n",
    "- virginica의의 p-value가 0.05 이상이므로 귀무가설을 기각할 수 없다. 즉 정규성을 만족한다."
   ]
  },
  {
   "cell_type": "code",
   "execution_count": 12,
   "id": "a9965b87",
   "metadata": {},
   "outputs": [
    {
     "name": "stdout",
     "output_type": "stream",
     "text": [
      "Levene test p-value = 0.0000000313\n"
     ]
    }
   ],
   "source": [
    "# 5\n",
    "import seaborn as sns\n",
    "from scipy.stats import levene\n",
    "\n",
    "\n",
    "# 각 그룹의 petal_length 추출\n",
    "setosa = iris[iris['species'] == 'setosa']['petal_length']\n",
    "versicolor = iris[iris['species'] == 'versicolor']['petal_length']\n",
    "virginica = iris[iris['species'] == 'virginica']['petal_length']\n",
    "\n",
    "# Levene 검정 수행\n",
    "stat, p = levene(setosa, versicolor, virginica)\n",
    "\n",
    "# p-value만 출력\n",
    "print(f\"Levene test p-value = {p:.10f}\")\n"
   ]
  },
  {
   "cell_type": "markdown",
   "id": "2a26828e",
   "metadata": {},
   "source": [
    "- Levene test 결과 p-value 값이 0.0000000313으로 0.05보다 훨씬 작으므로, 등분산성을 만족하지 않습니다.\n"
   ]
  },
  {
   "cell_type": "markdown",
   "id": "30038f32",
   "metadata": {},
   "source": [
    "\\# 6\n",
    "- H₀: 3개 Species 간 분산이 같다.\n",
    "- H₁: 적어도 한 Species의 분산이 다르다."
   ]
  },
  {
   "cell_type": "code",
   "execution_count": 32,
   "id": "2f126a23",
   "metadata": {},
   "outputs": [
    {
     "name": "stdout",
     "output_type": "stream",
     "text": [
      "F-statistic: 1180.1612\n",
      "p-value: 2.8567766109615584e-91\n"
     ]
    }
   ],
   "source": [
    "# 7\n",
    "\n",
    "from scipy.stats import f_oneway\n",
    "\n",
    "# 각 그룹의 petal_length 추출\n",
    "setosa = iris[iris['species'] == 'setosa']['petal_length']\n",
    "versicolor = iris[iris['species'] == 'versicolor']['petal_length']\n",
    "virginica = iris[iris['species'] == 'virginica']['petal_length']\n",
    "\n",
    "# ANOVA 실행\n",
    "f_stat, p_value = f_oneway(setosa, versicolor, virginica)\n",
    "\n",
    "# 출력\n",
    "print(f\"F-statistic: {f_stat:.4f}\")\n",
    "print(f\"p-value: {p_value}\")"
   ]
  },
  {
   "cell_type": "markdown",
   "id": "5088209c",
   "metadata": {},
   "source": [
    "- 유의수준 0.05에서 p-value < 0.05이므로, 귀무가설을 기각한다.\n",
    "- 따라서 세 species 간 petal_length의 평균에는 유의미한 차이가 있다."
   ]
  },
  {
   "cell_type": "code",
   "execution_count": 33,
   "id": "6e153a3a",
   "metadata": {},
   "outputs": [
    {
     "name": "stdout",
     "output_type": "stream",
     "text": [
      "   Multiple Comparison of Means - Tukey HSD, FWER=0.05   \n",
      "=========================================================\n",
      "  group1     group2   meandiff p-adj lower  upper  reject\n",
      "---------------------------------------------------------\n",
      "    setosa versicolor    2.798   0.0 2.5942 3.0018   True\n",
      "    setosa  virginica     4.09   0.0 3.8862 4.2938   True\n",
      "versicolor  virginica    1.292   0.0 1.0882 1.4958   True\n",
      "---------------------------------------------------------\n"
     ]
    }
   ],
   "source": [
    "# 8\n",
    "import pandas as pd\n",
    "from statsmodels.stats.multicomp import pairwise_tukeyhsd\n",
    "\n",
    "# Tukey HSD 수행\n",
    "tukey = pairwise_tukeyhsd(endog=iris['petal_length'], groups=iris['species'], alpha=0.05)\n",
    "\n",
    "# 결과 출력\n",
    "print(tukey)"
   ]
  },
  {
   "cell_type": "markdown",
   "id": "4eb5ed9f",
   "metadata": {},
   "source": [
    "- 모든 그룹쌍 사이의 p-adj 값이 0.0으로 0.05보다 작으며 reject = true인 것을 통해\n",
    "세 종 사이의 petal_length 평균에 유의미한 차이가 존재한다고 볼 수 있다.\n",
    "- setosa vs versicolor / setosa vs virginica / versicolor vs virginica 모두 유의미한 차이를 가진다."
   ]
  },
  {
   "cell_type": "markdown",
   "id": "0a3d160a",
   "metadata": {},
   "source": [
    "\\# 9\n",
    "\n",
    "- Boxplot 및 ANOVA 결과, 세 종(setosa, versicolor, virginica) 간의 petal length 평균에는 통계적으로 유의미한 차이가 있음을 알 수 있다.\n",
    "\n",
    "- Tukey HSD 사후검정 결과, 모든 그룹 쌍(setosa–versicolor, setosa–virginica, versicolor–virginica) 간에 유의미한 차이가 존재함을 확인할 수 있다.\n",
    "\n",
    "- 세 그룹 중 virginica가 가장 긴 petal length를 보였으며, setosa는 가장 짧은 petal length를 가진다고 할 수 있다.\n"
   ]
  },
  {
   "cell_type": "markdown",
   "id": "2d6dc068",
   "metadata": {},
   "source": [
    "---"
   ]
  },
  {
   "cell_type": "markdown",
   "id": "d4847cc6",
   "metadata": {},
   "source": [
    "## 2. 실제 신용카드 사기 데이터셋을 활용해 클래스 불균형 상황에서 분류 모델을 학습"
   ]
  },
  {
   "cell_type": "code",
   "execution_count": 61,
   "id": "f967da03",
   "metadata": {},
   "outputs": [
    {
     "name": "stdout",
     "output_type": "stream",
     "text": [
      "   Time        V1        V2        V3        V4        V5        V6        V7  \\\n",
      "0   0.0 -1.359807 -0.072781  2.536347  1.378155 -0.338321  0.462388  0.239599   \n",
      "1   0.0  1.191857  0.266151  0.166480  0.448154  0.060018 -0.082361 -0.078803   \n",
      "2   1.0 -1.358354 -1.340163  1.773209  0.379780 -0.503198  1.800499  0.791461   \n",
      "3   1.0 -0.966272 -0.185226  1.792993 -0.863291 -0.010309  1.247203  0.237609   \n",
      "4   2.0 -1.158233  0.877737  1.548718  0.403034 -0.407193  0.095921  0.592941   \n",
      "\n",
      "         V8        V9  ...       V21       V22       V23       V24       V25  \\\n",
      "0  0.098698  0.363787  ... -0.018307  0.277838 -0.110474  0.066928  0.128539   \n",
      "1  0.085102 -0.255425  ... -0.225775 -0.638672  0.101288 -0.339846  0.167170   \n",
      "2  0.247676 -1.514654  ...  0.247998  0.771679  0.909412 -0.689281 -0.327642   \n",
      "3  0.377436 -1.387024  ... -0.108300  0.005274 -0.190321 -1.175575  0.647376   \n",
      "4 -0.270533  0.817739  ... -0.009431  0.798278 -0.137458  0.141267 -0.206010   \n",
      "\n",
      "        V26       V27       V28  Amount  Class  \n",
      "0 -0.189115  0.133558 -0.021053  149.62      0  \n",
      "1  0.125895 -0.008983  0.014724    2.69      0  \n",
      "2 -0.139097 -0.055353 -0.059752  378.66      0  \n",
      "3 -0.221929  0.062723  0.061458  123.50      0  \n",
      "4  0.502292  0.219422  0.215153   69.99      0  \n",
      "\n",
      "[5 rows x 31 columns]\n",
      "<class 'pandas.core.frame.DataFrame'>\n",
      "RangeIndex: 284807 entries, 0 to 284806\n",
      "Data columns (total 31 columns):\n",
      " #   Column  Non-Null Count   Dtype  \n",
      "---  ------  --------------   -----  \n",
      " 0   Time    284807 non-null  float64\n",
      " 1   V1      284807 non-null  float64\n",
      " 2   V2      284807 non-null  float64\n",
      " 3   V3      284807 non-null  float64\n",
      " 4   V4      284807 non-null  float64\n",
      " 5   V5      284807 non-null  float64\n",
      " 6   V6      284807 non-null  float64\n",
      " 7   V7      284807 non-null  float64\n",
      " 8   V8      284807 non-null  float64\n",
      " 9   V9      284807 non-null  float64\n",
      " 10  V10     284807 non-null  float64\n",
      " 11  V11     284807 non-null  float64\n",
      " 12  V12     284807 non-null  float64\n",
      " 13  V13     284807 non-null  float64\n",
      " 14  V14     284807 non-null  float64\n",
      " 15  V15     284807 non-null  float64\n",
      " 16  V16     284807 non-null  float64\n",
      " 17  V17     284807 non-null  float64\n",
      " 18  V18     284807 non-null  float64\n",
      " 19  V19     284807 non-null  float64\n",
      " 20  V20     284807 non-null  float64\n",
      " 21  V21     284807 non-null  float64\n",
      " 22  V22     284807 non-null  float64\n",
      " 23  V23     284807 non-null  float64\n",
      " 24  V24     284807 non-null  float64\n",
      " 25  V25     284807 non-null  float64\n",
      " 26  V26     284807 non-null  float64\n",
      " 27  V27     284807 non-null  float64\n",
      " 28  V28     284807 non-null  float64\n",
      " 29  Amount  284807 non-null  float64\n",
      " 30  Class   284807 non-null  int64  \n",
      "dtypes: float64(30), int64(1)\n",
      "memory usage: 67.4 MB\n",
      "None\n",
      "                Time            V1            V2            V3            V4  \\\n",
      "count  284807.000000  2.848070e+05  2.848070e+05  2.848070e+05  2.848070e+05   \n",
      "mean    94813.859575  1.168375e-15  3.416908e-16 -1.379537e-15  2.074095e-15   \n",
      "std     47488.145955  1.958696e+00  1.651309e+00  1.516255e+00  1.415869e+00   \n",
      "min         0.000000 -5.640751e+01 -7.271573e+01 -4.832559e+01 -5.683171e+00   \n",
      "25%     54201.500000 -9.203734e-01 -5.985499e-01 -8.903648e-01 -8.486401e-01   \n",
      "50%     84692.000000  1.810880e-02  6.548556e-02  1.798463e-01 -1.984653e-02   \n",
      "75%    139320.500000  1.315642e+00  8.037239e-01  1.027196e+00  7.433413e-01   \n",
      "max    172792.000000  2.454930e+00  2.205773e+01  9.382558e+00  1.687534e+01   \n",
      "\n",
      "                 V5            V6            V7            V8            V9  \\\n",
      "count  2.848070e+05  2.848070e+05  2.848070e+05  2.848070e+05  2.848070e+05   \n",
      "mean   9.604066e-16  1.487313e-15 -5.556467e-16  1.213481e-16 -2.406331e-15   \n",
      "std    1.380247e+00  1.332271e+00  1.237094e+00  1.194353e+00  1.098632e+00   \n",
      "min   -1.137433e+02 -2.616051e+01 -4.355724e+01 -7.321672e+01 -1.343407e+01   \n",
      "25%   -6.915971e-01 -7.682956e-01 -5.540759e-01 -2.086297e-01 -6.430976e-01   \n",
      "50%   -5.433583e-02 -2.741871e-01  4.010308e-02  2.235804e-02 -5.142873e-02   \n",
      "75%    6.119264e-01  3.985649e-01  5.704361e-01  3.273459e-01  5.971390e-01   \n",
      "max    3.480167e+01  7.330163e+01  1.205895e+02  2.000721e+01  1.559499e+01   \n",
      "\n",
      "       ...           V21           V22           V23           V24  \\\n",
      "count  ...  2.848070e+05  2.848070e+05  2.848070e+05  2.848070e+05   \n",
      "mean   ...  1.654067e-16 -3.568593e-16  2.578648e-16  4.473266e-15   \n",
      "std    ...  7.345240e-01  7.257016e-01  6.244603e-01  6.056471e-01   \n",
      "min    ... -3.483038e+01 -1.093314e+01 -4.480774e+01 -2.836627e+00   \n",
      "25%    ... -2.283949e-01 -5.423504e-01 -1.618463e-01 -3.545861e-01   \n",
      "50%    ... -2.945017e-02  6.781943e-03 -1.119293e-02  4.097606e-02   \n",
      "75%    ...  1.863772e-01  5.285536e-01  1.476421e-01  4.395266e-01   \n",
      "max    ...  2.720284e+01  1.050309e+01  2.252841e+01  4.584549e+00   \n",
      "\n",
      "                V25           V26           V27           V28         Amount  \\\n",
      "count  2.848070e+05  2.848070e+05  2.848070e+05  2.848070e+05  284807.000000   \n",
      "mean   5.340915e-16  1.683437e-15 -3.660091e-16 -1.227390e-16      88.349619   \n",
      "std    5.212781e-01  4.822270e-01  4.036325e-01  3.300833e-01     250.120109   \n",
      "min   -1.029540e+01 -2.604551e+00 -2.256568e+01 -1.543008e+01       0.000000   \n",
      "25%   -3.171451e-01 -3.269839e-01 -7.083953e-02 -5.295979e-02       5.600000   \n",
      "50%    1.659350e-02 -5.213911e-02  1.342146e-03  1.124383e-02      22.000000   \n",
      "75%    3.507156e-01  2.409522e-01  9.104512e-02  7.827995e-02      77.165000   \n",
      "max    7.519589e+00  3.517346e+00  3.161220e+01  3.384781e+01   25691.160000   \n",
      "\n",
      "               Class  \n",
      "count  284807.000000  \n",
      "mean        0.001727  \n",
      "std         0.041527  \n",
      "min         0.000000  \n",
      "25%         0.000000  \n",
      "50%         0.000000  \n",
      "75%         0.000000  \n",
      "max         1.000000  \n",
      "\n",
      "[8 rows x 31 columns]\n",
      "Class\n",
      "0    284315\n",
      "1       492\n",
      "Name: count, dtype: int64\n",
      "Class\n",
      "0    0.998273\n",
      "1    0.001727\n",
      "Name: proportion, dtype: float64\n"
     ]
    }
   ],
   "source": [
    "# 1\n",
    "import pandas as pd\n",
    "\n",
    "df = pd.read_csv('C:/creditcard.csv',  encoding='cp949')\n",
    "\n",
    "print(df.head())\n",
    "\n",
    "print(df.info())\n",
    "\n",
    "print(df.describe())\n",
    "\n",
    "# Class 비율 출력 (0: 정상, 1: 사기)\n",
    "print(df['Class'].value_counts()) \n",
    "print(df['Class'].value_counts(normalize=True)) \n"
   ]
  },
  {
   "cell_type": "code",
   "execution_count": 62,
   "id": "0ba98fa8",
   "metadata": {},
   "outputs": [
    {
     "name": "stdout",
     "output_type": "stream",
     "text": [
      "Class\n",
      "0    0.953107\n",
      "1    0.046893\n",
      "Name: proportion, dtype: float64\n"
     ]
    }
   ],
   "source": [
    "# 2\n",
    "\n",
    "# 사기 거래(Class=1) 전부 유지\n",
    "fraud = df[df['Class'] == 1]\n",
    "\n",
    "# 정상 거래(Class=0)에서 10,000건 샘플링\n",
    "normal = df[df['Class'] == 0].sample(n=10000, random_state=42)\n",
    "\n",
    "# 두 데이터 결합\n",
    "sampled_df = pd.concat([fraud, normal], axis=0)\n",
    "\n",
    "# 5. 샘플링 후 Class 비율 출력\n",
    "print(sampled_df['Class'].value_counts(normalize=True))"
   ]
  },
  {
   "cell_type": "code",
   "execution_count": 63,
   "id": "00d63071",
   "metadata": {},
   "outputs": [],
   "source": [
    "# 3\n",
    "\n",
    "from sklearn.preprocessing import StandardScaler\n",
    "\n",
    "# 1. StandardScaler 객체 생성\n",
    "scaler = StandardScaler()\n",
    "\n",
    "# 2. Amount 변수만 표준화\n",
    "sampled_df['Amount_Scaled'] = scaler.fit_transform(sampled_df[['Amount']])\n",
    "\n",
    "# 3. 원래 Amount 변수 삭제\n",
    "sampled_df = sampled_df.drop('Amount', axis=1)\n",
    "\n",
    "# 4. X, y 분리\n",
    "X = sampled_df.drop('Class', axis=1)\n",
    "y = sampled_df['Class'] "
   ]
  },
  {
   "cell_type": "code",
   "execution_count": 64,
   "id": "6e077a51",
   "metadata": {},
   "outputs": [
    {
     "name": "stdout",
     "output_type": "stream",
     "text": [
      "Train Class 분포:\n",
      "Class\n",
      "0    7999\n",
      "1     394\n",
      "Name: count, dtype: int64\n",
      "\n",
      "\n",
      "Test Class 분포:\n",
      "Class\n",
      "0    2001\n",
      "1      98\n",
      "Name: count, dtype: int64\n"
     ]
    }
   ],
   "source": [
    "# 4\n",
    "from sklearn.model_selection import train_test_split\n",
    "\n",
    "# 데이터 분할\n",
    "X_train, X_test, y_train, y_test = train_test_split(\n",
    "    X, y, test_size=0.2, random_state=42, stratify=y\n",
    ")\n",
    "\n",
    "# 비율 확인\n",
    "print(\"Train Class 분포:\")\n",
    "print(y_train.value_counts())\n",
    "print(\"\\n\")\n",
    "print(\"Test Class 분포:\")\n",
    "print(y_test.value_counts())\n"
   ]
  },
  {
   "cell_type": "code",
   "execution_count": 66,
   "id": "1bed22a3",
   "metadata": {},
   "outputs": [
    {
     "name": "stdout",
     "output_type": "stream",
     "text": [
      "SMOTE 적용 전 Class 분포:\n",
      "Class\n",
      "0    7999\n",
      "1     394\n",
      "Name: count, dtype: int64\n",
      "\n",
      "\n",
      "SMOTE 적용 후 Class 분포:\n",
      "Class\n",
      "0    7999\n",
      "1    7999\n",
      "Name: count, dtype: int64\n"
     ]
    }
   ],
   "source": [
    "# 5\n",
    "\n",
    "from imblearn.over_sampling import SMOTE\n",
    "\n",
    "# SMOTE 객체 생성\n",
    "smote = SMOTE(random_state=42)\n",
    "\n",
    "# 학습 데이터에 SMOTE 적용\n",
    "X_train_resampled, y_train_resampled = smote.fit_resample(X_train, y_train)\n",
    "\n",
    "# 사기 거래 건수 확인\n",
    "print(\"SMOTE 적용 전 Class 분포:\")\n",
    "print(y_train.value_counts())\n",
    "print('\\n')\n",
    "print(\"SMOTE 적용 후 Class 분포:\")\n",
    "print(y_train_resampled.value_counts())"
   ]
  },
  {
   "cell_type": "code",
   "execution_count": 70,
   "id": "14c45c06",
   "metadata": {},
   "outputs": [
    {
     "name": "stdout",
     "output_type": "stream",
     "text": [
      "예측 확률 (Class=1):\n",
      "[0.14013283 0.07740872 0.03678127 0.02188825 0.29228138 0.00212237\n",
      " 1.         0.00716832 0.00123913 0.0144795 ]\n",
      "\n",
      "예측 결과 :\n",
      "[0 0 0 0 0 0 1 0 0 0]\n",
      "Classification Report:\n",
      "              precision    recall  f1-score   support\n",
      "\n",
      "           0     0.9940    0.9965    0.9953      2001\n",
      "           1     0.9247    0.8776    0.9005        98\n",
      "\n",
      "    accuracy                         0.9909      2099\n",
      "   macro avg     0.9594    0.9370    0.9479      2099\n",
      "weighted avg     0.9908    0.9909    0.9908      2099\n",
      "\n",
      "\n",
      "PR-AUC (average_precision_score): 0.9551\n"
     ]
    }
   ],
   "source": [
    "# 6\n",
    "\n",
    "from sklearn.linear_model import LogisticRegression\n",
    "from sklearn.metrics import classification_report, average_precision_score\n",
    "\n",
    "# 로지스틱 회귀 모델 정의 및 학습\n",
    "model = LogisticRegression(max_iter=5000, random_state=42)\n",
    "model.fit(X_train_resampled, y_train_resampled)\n",
    "\n",
    "# 예측\n",
    "y_proba = model.predict_proba(X_test)[:, 1]  # Class=1일 확률\n",
    "threshold = 0.8\n",
    "y_pred_thresh = (y_proba >= threshold).astype(int)\n",
    "\n",
    "# 예측값과 예측 확률 출력\n",
    "print(\"예측 확률 (Class=1):\")\n",
    "print(y_proba[:10])  # 처음 10개만 출력\n",
    "\n",
    "print(\"\\n예측 결과 :\")\n",
    "print(y_pred_thresh[:10])  # 처음 10개만 출력\n",
    "\n",
    "# classification_report 출력\n",
    "print(\"Classification Report:\")\n",
    "print(classification_report(y_test, y_pred_thresh, digits=4))\n",
    "\n",
    "# PR-AUC\n",
    "pr_auc = average_precision_score(y_test, y_proba) \n",
    "print(f\"\\nPR-AUC (average_precision_score): {pr_auc:.4f}\")"
   ]
  },
  {
   "cell_type": "markdown",
   "id": "59de7f42",
   "metadata": {},
   "source": [
    "- 로지스틱 회귀 모델을 사용하였고, max_iter=5000으로, threshold=0.8로 조정한 결과 테스트셋에 대한 성능은 다음과 같다.\n",
    "\n",
    "- Class 0의 precision은 0.9940, recall은 0.9965, f1-score는 0.9953이며\n",
    "Class 1의 precision은 0.9247, recall은 0.8776, f1-score는 0.9005로 둘 다 목표를 달성하였다.\n",
    "\n",
    "- 전체 모델의 PR-AUC=0.9551로 역시 목표를 달성하였다."
   ]
  }
 ],
 "metadata": {
  "kernelspec": {
   "display_name": "base",
   "language": "python",
   "name": "python3"
  },
  "language_info": {
   "codemirror_mode": {
    "name": "ipython",
    "version": 3
   },
   "file_extension": ".py",
   "mimetype": "text/x-python",
   "name": "python",
   "nbconvert_exporter": "python",
   "pygments_lexer": "ipython3",
   "version": "3.12.7"
  }
 },
 "nbformat": 4,
 "nbformat_minor": 5
}
